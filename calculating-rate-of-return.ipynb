{
 "cells": [
  {
   "cell_type": "code",
   "execution_count": 1,
   "id": "4fae7a7c",
   "metadata": {},
   "outputs": [],
   "source": [
    "import numpy as np"
   ]
  },
  {
   "cell_type": "code",
   "execution_count": 2,
   "id": "aa60f975",
   "metadata": {},
   "outputs": [],
   "source": [
    "from pandas_datareader import data as wb"
   ]
  },
  {
   "cell_type": "code",
   "execution_count": 3,
   "id": "cefa23e5",
   "metadata": {},
   "outputs": [],
   "source": [
    "import matplotlib.pyplot as plt"
   ]
  },
  {
   "cell_type": "code",
   "execution_count": 4,
   "id": "9a263506",
   "metadata": {},
   "outputs": [],
   "source": [
    "PG=wb.DataReader('PG', data_source='yahoo', start='1995-1-1')"
   ]
  },
  {
   "cell_type": "code",
   "execution_count": 5,
   "id": "2fdf28ab",
   "metadata": {},
   "outputs": [
    {
     "data": {
      "text/html": [
       "<div>\n",
       "<style scoped>\n",
       "    .dataframe tbody tr th:only-of-type {\n",
       "        vertical-align: middle;\n",
       "    }\n",
       "\n",
       "    .dataframe tbody tr th {\n",
       "        vertical-align: top;\n",
       "    }\n",
       "\n",
       "    .dataframe thead th {\n",
       "        text-align: right;\n",
       "    }\n",
       "</style>\n",
       "<table border=\"1\" class=\"dataframe\">\n",
       "  <thead>\n",
       "    <tr style=\"text-align: right;\">\n",
       "      <th></th>\n",
       "      <th>High</th>\n",
       "      <th>Low</th>\n",
       "      <th>Open</th>\n",
       "      <th>Close</th>\n",
       "      <th>Volume</th>\n",
       "      <th>Adj Close</th>\n",
       "    </tr>\n",
       "    <tr>\n",
       "      <th>Date</th>\n",
       "      <th></th>\n",
       "      <th></th>\n",
       "      <th></th>\n",
       "      <th></th>\n",
       "      <th></th>\n",
       "      <th></th>\n",
       "    </tr>\n",
       "  </thead>\n",
       "  <tbody>\n",
       "    <tr>\n",
       "      <th>1995-01-03</th>\n",
       "      <td>15.62500</td>\n",
       "      <td>15.43750</td>\n",
       "      <td>15.46875</td>\n",
       "      <td>15.59375</td>\n",
       "      <td>3318400.0</td>\n",
       "      <td>7.926651</td>\n",
       "    </tr>\n",
       "    <tr>\n",
       "      <th>1995-01-04</th>\n",
       "      <td>15.65625</td>\n",
       "      <td>15.31250</td>\n",
       "      <td>15.53125</td>\n",
       "      <td>15.46875</td>\n",
       "      <td>2218800.0</td>\n",
       "      <td>7.863107</td>\n",
       "    </tr>\n",
       "    <tr>\n",
       "      <th>1995-01-05</th>\n",
       "      <td>15.43750</td>\n",
       "      <td>15.21875</td>\n",
       "      <td>15.37500</td>\n",
       "      <td>15.25000</td>\n",
       "      <td>2319600.0</td>\n",
       "      <td>7.751913</td>\n",
       "    </tr>\n",
       "    <tr>\n",
       "      <th>1995-01-06</th>\n",
       "      <td>15.40625</td>\n",
       "      <td>15.15625</td>\n",
       "      <td>15.15625</td>\n",
       "      <td>15.28125</td>\n",
       "      <td>3438000.0</td>\n",
       "      <td>7.767799</td>\n",
       "    </tr>\n",
       "    <tr>\n",
       "      <th>1995-01-09</th>\n",
       "      <td>15.40625</td>\n",
       "      <td>15.18750</td>\n",
       "      <td>15.34375</td>\n",
       "      <td>15.21875</td>\n",
       "      <td>1795200.0</td>\n",
       "      <td>7.736029</td>\n",
       "    </tr>\n",
       "  </tbody>\n",
       "</table>\n",
       "</div>"
      ],
      "text/plain": [
       "                High       Low      Open     Close     Volume  Adj Close\n",
       "Date                                                                    \n",
       "1995-01-03  15.62500  15.43750  15.46875  15.59375  3318400.0   7.926651\n",
       "1995-01-04  15.65625  15.31250  15.53125  15.46875  2218800.0   7.863107\n",
       "1995-01-05  15.43750  15.21875  15.37500  15.25000  2319600.0   7.751913\n",
       "1995-01-06  15.40625  15.15625  15.15625  15.28125  3438000.0   7.767799\n",
       "1995-01-09  15.40625  15.18750  15.34375  15.21875  1795200.0   7.736029"
      ]
     },
     "execution_count": 5,
     "metadata": {},
     "output_type": "execute_result"
    }
   ],
   "source": [
    "PG.head()"
   ]
  },
  {
   "cell_type": "code",
   "execution_count": 6,
   "id": "6740feb8",
   "metadata": {},
   "outputs": [
    {
     "data": {
      "text/html": [
       "<div>\n",
       "<style scoped>\n",
       "    .dataframe tbody tr th:only-of-type {\n",
       "        vertical-align: middle;\n",
       "    }\n",
       "\n",
       "    .dataframe tbody tr th {\n",
       "        vertical-align: top;\n",
       "    }\n",
       "\n",
       "    .dataframe thead th {\n",
       "        text-align: right;\n",
       "    }\n",
       "</style>\n",
       "<table border=\"1\" class=\"dataframe\">\n",
       "  <thead>\n",
       "    <tr style=\"text-align: right;\">\n",
       "      <th></th>\n",
       "      <th>High</th>\n",
       "      <th>Low</th>\n",
       "      <th>Open</th>\n",
       "      <th>Close</th>\n",
       "      <th>Volume</th>\n",
       "      <th>Adj Close</th>\n",
       "    </tr>\n",
       "    <tr>\n",
       "      <th>Date</th>\n",
       "      <th></th>\n",
       "      <th></th>\n",
       "      <th></th>\n",
       "      <th></th>\n",
       "      <th></th>\n",
       "      <th></th>\n",
       "    </tr>\n",
       "  </thead>\n",
       "  <tbody>\n",
       "    <tr>\n",
       "      <th>2022-07-01</th>\n",
       "      <td>146.250000</td>\n",
       "      <td>143.399994</td>\n",
       "      <td>144.240005</td>\n",
       "      <td>146.110001</td>\n",
       "      <td>5937200.0</td>\n",
       "      <td>146.110001</td>\n",
       "    </tr>\n",
       "    <tr>\n",
       "      <th>2022-07-05</th>\n",
       "      <td>146.100006</td>\n",
       "      <td>142.539993</td>\n",
       "      <td>144.580002</td>\n",
       "      <td>144.699997</td>\n",
       "      <td>5760900.0</td>\n",
       "      <td>144.699997</td>\n",
       "    </tr>\n",
       "    <tr>\n",
       "      <th>2022-07-06</th>\n",
       "      <td>147.490005</td>\n",
       "      <td>144.970001</td>\n",
       "      <td>145.509995</td>\n",
       "      <td>146.050003</td>\n",
       "      <td>5485200.0</td>\n",
       "      <td>146.050003</td>\n",
       "    </tr>\n",
       "    <tr>\n",
       "      <th>2022-07-07</th>\n",
       "      <td>146.190002</td>\n",
       "      <td>144.600006</td>\n",
       "      <td>145.289993</td>\n",
       "      <td>146.000000</td>\n",
       "      <td>6623400.0</td>\n",
       "      <td>146.000000</td>\n",
       "    </tr>\n",
       "    <tr>\n",
       "      <th>2022-07-08</th>\n",
       "      <td>146.809998</td>\n",
       "      <td>144.570007</td>\n",
       "      <td>145.990005</td>\n",
       "      <td>145.020004</td>\n",
       "      <td>4293700.0</td>\n",
       "      <td>145.020004</td>\n",
       "    </tr>\n",
       "  </tbody>\n",
       "</table>\n",
       "</div>"
      ],
      "text/plain": [
       "                  High         Low        Open       Close     Volume  \\\n",
       "Date                                                                    \n",
       "2022-07-01  146.250000  143.399994  144.240005  146.110001  5937200.0   \n",
       "2022-07-05  146.100006  142.539993  144.580002  144.699997  5760900.0   \n",
       "2022-07-06  147.490005  144.970001  145.509995  146.050003  5485200.0   \n",
       "2022-07-07  146.190002  144.600006  145.289993  146.000000  6623400.0   \n",
       "2022-07-08  146.809998  144.570007  145.990005  145.020004  4293700.0   \n",
       "\n",
       "             Adj Close  \n",
       "Date                    \n",
       "2022-07-01  146.110001  \n",
       "2022-07-05  144.699997  \n",
       "2022-07-06  146.050003  \n",
       "2022-07-07  146.000000  \n",
       "2022-07-08  145.020004  "
      ]
     },
     "execution_count": 6,
     "metadata": {},
     "output_type": "execute_result"
    }
   ],
   "source": [
    "PG.tail()"
   ]
  },
  {
   "cell_type": "code",
   "execution_count": 8,
   "id": "c34aba7e",
   "metadata": {},
   "outputs": [
    {
     "name": "stdout",
     "output_type": "stream",
     "text": [
      "Date\n",
      "1995-01-03         NaN\n",
      "1995-01-04   -0.008017\n",
      "1995-01-05   -0.014141\n",
      "1995-01-06    0.002049\n",
      "1995-01-09   -0.004090\n",
      "                ...   \n",
      "2022-07-01    0.016135\n",
      "2022-07-05   -0.009650\n",
      "2022-07-06    0.009330\n",
      "2022-07-07   -0.000342\n",
      "2022-07-08   -0.006712\n",
      "Name: simple_return, Length: 6928, dtype: float64\n"
     ]
    }
   ],
   "source": [
    "PG['simple_return']=(PG['Adj Close']/PG['Adj Close'].shift(1))-1\n",
    "print (PG['simple_return'])"
   ]
  },
  {
   "cell_type": "code",
   "execution_count": 10,
   "id": "cd256d3e",
   "metadata": {},
   "outputs": [
    {
     "data": {
      "image/png": "[encoded data removed]",
      "text/plain": [
       "<Figure size 576x360 with 1 Axes>"
      ]
     },
     "metadata": {
      "needs_background": "light"
     },
     "output_type": "display_data"
    }
   ],
   "source": [
    "PG['simple_return'].plot(figsize=(8,5))\n",
    "plt.show()"
   ]
  },
  {
   "cell_type": "code",
   "execution_count": 14,
   "id": "84c18a13",
   "metadata": {},
   "outputs": [
    {
     "data": {
      "text/plain": [
       "0.0005200315955490762"
      ]
     },
     "execution_count": 14,
     "metadata": {},
     "output_type": "execute_result"
    }
   ],
   "source": [
    "avg_returns_d=PG['simple_return'].mean()\n",
    "avg_returns_d"
   ]
  },
  {
   "cell_type": "code",
   "execution_count": 15,
   "id": "fb4976f1",
   "metadata": {},
   "outputs": [
    {
     "data": {
      "text/plain": [
       "0.13000789888726905"
      ]
     },
     "execution_count": 15,
     "metadata": {},
     "output_type": "execute_result"
    }
   ],
   "source": [
    "avg_returns_a=PG['simple_return'].mean()*250\n",
    "avg_returns_a"
   ]
  },
  {
   "cell_type": "code",
   "execution_count": 17,
   "id": "4be3c4ee",
   "metadata": {},
   "outputs": [
    {
     "name": "stdout",
     "output_type": "stream",
     "text": [
      "13.001%\n"
     ]
    }
   ],
   "source": [
    "print (str(round(avg_returns_a, 5)*100)+'%')"
   ]
  },
  {
   "cell_type": "code",
   "execution_count": 19,
   "id": "7ccff292",
   "metadata": {},
   "outputs": [
    {
     "name": "stdout",
     "output_type": "stream",
     "text": [
      "Date\n",
      "1995-01-03         NaN\n",
      "1995-01-04   -0.008049\n",
      "1995-01-05   -0.014242\n",
      "1995-01-06    0.002047\n",
      "1995-01-09   -0.004098\n",
      "                ...   \n",
      "2022-07-01    0.016006\n",
      "2022-07-05   -0.009697\n",
      "2022-07-06    0.009286\n",
      "2022-07-07   -0.000342\n",
      "2022-07-08   -0.006735\n",
      "Name: log_return, Length: 6928, dtype: float64\n"
     ]
    }
   ],
   "source": [
    "PG['log_return']=np.log(PG['Adj Close']/PG['Adj Close'].shift(1))\n",
    "print (PG['log_return'])"
   ]
  },
  {
   "cell_type": "code",
   "execution_count": 20,
   "id": "d13a6e8e",
   "metadata": {},
   "outputs": [
    {
     "data": {
      "image/png": "[encoded data removed]",
      "text/plain": [
       "<Figure size 576x360 with 1 Axes>"
      ]
     },
     "metadata": {
      "needs_background": "light"
     },
     "output_type": "display_data"
    }
   ],
   "source": [
    "PG['log_return'].plot(figsize=(8,5))\n",
    "plt.show()"
   ]
  },
  {
   "cell_type": "code",
   "execution_count": 21,
   "id": "8e39c508",
   "metadata": {},
   "outputs": [
    {
     "data": {
      "text/plain": [
       "0.000419610366245627"
      ]
     },
     "execution_count": 21,
     "metadata": {},
     "output_type": "execute_result"
    }
   ],
   "source": [
    "log_returns_d=PG['log_return'].mean()\n",
    "log_returns_d"
   ]
  },
  {
   "cell_type": "code",
   "execution_count": 22,
   "id": "07271aac",
   "metadata": {},
   "outputs": [
    {
     "data": {
      "text/plain": [
       "0.10490259156140674"
      ]
     },
     "execution_count": 22,
     "metadata": {},
     "output_type": "execute_result"
    }
   ],
   "source": [
    "log_returns_a=PG['log_return'].mean()*250\n",
    "log_returns_a"
   ]
  },
  {
   "cell_type": "code",
   "execution_count": 23,
   "id": "6ea4694c",
   "metadata": {},
   "outputs": [
    {
     "name": "stdout",
     "output_type": "stream",
     "text": [
      "10.489999999999998%\n"
     ]
    }
   ],
   "source": [
    "print (str(round(log_returns_a, 5)*100)+'%')"
   ]
  },
  {
   "cell_type": "code",
   "execution_count": null,
   "id": "8b7fa3d4",
   "metadata": {},
   "outputs": [],
   "source": [
    "#Rate of return of a portfolio"
   ]
  }
 ],
 "metadata": {
  "kernelspec": {
   "display_name": "Python 3 (ipykernel)",
   "language": "python",
   "name": "python3"
  },
  "language_info": {
   "codemirror_mode": {
    "name": "ipython",
    "version": 3
   },
   "file_extension": ".py",
   "mimetype": "text/x-python",
   "name": "python",
   "nbconvert_exporter": "python",
   "pygments_lexer": "ipython3",
   "version": "3.9.12"
  }
 },
 "nbformat": 4,
 "nbformat_minor": 5
}
