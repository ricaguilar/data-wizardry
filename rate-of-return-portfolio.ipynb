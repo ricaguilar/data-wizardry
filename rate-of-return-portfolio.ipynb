{
 "cells": [
  {
   "cell_type": "code",
   "execution_count": 3,
   "id": "8e42b3a6",
   "metadata": {},
   "outputs": [],
   "source": [
    "import numpy as np\n",
    "import pandas as pd\n",
    "from pandas_datareader import data as wb\n",
    "import matplotlib.pyplot as plt"
   ]
  },
  {
   "cell_type": "code",
   "execution_count": 21,
   "id": "c33d6293",
   "metadata": {},
   "outputs": [],
   "source": [
    "tickers=['PG','MSFT', 'F','GE']\n",
    "mydata=pd.DataFrame()\n",
    "for t in tickers:\n",
    "    mydata[t]=wb.DataReader(t, data_source='yahoo', start='1995-1-1')['Adj Close']"
   ]
  },
  {
   "cell_type": "code",
   "execution_count": 26,
   "id": "b1620056",
   "metadata": {},
   "outputs": [
    {
     "name": "stdout",
     "output_type": "stream",
     "text": [
      "<class 'pandas.core.frame.DataFrame'>\n",
      "DatetimeIndex: 6928 entries, 1995-01-03 to 2022-07-08\n",
      "Data columns (total 4 columns):\n",
      " #   Column  Non-Null Count  Dtype  \n",
      "---  ------  --------------  -----  \n",
      " 0   PG      6928 non-null   float64\n",
      " 1   MSFT    6928 non-null   float64\n",
      " 2   F       6928 non-null   float64\n",
      " 3   GE      6928 non-null   float64\n",
      "dtypes: float64(4)\n",
      "memory usage: 270.6 KB\n"
     ]
    }
   ],
   "source": [
    "mydata.info()"
   ]
  },
  {
   "cell_type": "code",
   "execution_count": 27,
   "id": "d4d8f9ec",
   "metadata": {},
   "outputs": [
    {
     "data": {
      "text/html": [
       "<div>\n",
       "<style scoped>\n",
       "    .dataframe tbody tr th:only-of-type {\n",
       "        vertical-align: middle;\n",
       "    }\n",
       "\n",
       "    .dataframe tbody tr th {\n",
       "        vertical-align: top;\n",
       "    }\n",
       "\n",
       "    .dataframe thead th {\n",
       "        text-align: right;\n",
       "    }\n",
       "</style>\n",
       "<table border=\"1\" class=\"dataframe\">\n",
       "  <thead>\n",
       "    <tr style=\"text-align: right;\">\n",
       "      <th></th>\n",
       "      <th>PG</th>\n",
       "      <th>MSFT</th>\n",
       "      <th>F</th>\n",
       "      <th>GE</th>\n",
       "    </tr>\n",
       "    <tr>\n",
       "      <th>Date</th>\n",
       "      <th></th>\n",
       "      <th></th>\n",
       "      <th></th>\n",
       "      <th></th>\n",
       "    </tr>\n",
       "  </thead>\n",
       "  <tbody>\n",
       "    <tr>\n",
       "      <th>2022-07-01</th>\n",
       "      <td>146.110001</td>\n",
       "      <td>259.579987</td>\n",
       "      <td>11.32</td>\n",
       "      <td>63.540001</td>\n",
       "    </tr>\n",
       "    <tr>\n",
       "      <th>2022-07-05</th>\n",
       "      <td>144.699997</td>\n",
       "      <td>262.850006</td>\n",
       "      <td>11.20</td>\n",
       "      <td>62.029999</td>\n",
       "    </tr>\n",
       "    <tr>\n",
       "      <th>2022-07-06</th>\n",
       "      <td>146.050003</td>\n",
       "      <td>266.209991</td>\n",
       "      <td>11.06</td>\n",
       "      <td>61.570000</td>\n",
       "    </tr>\n",
       "    <tr>\n",
       "      <th>2022-07-07</th>\n",
       "      <td>146.000000</td>\n",
       "      <td>268.399994</td>\n",
       "      <td>11.65</td>\n",
       "      <td>63.000000</td>\n",
       "    </tr>\n",
       "    <tr>\n",
       "      <th>2022-07-08</th>\n",
       "      <td>145.020004</td>\n",
       "      <td>267.660004</td>\n",
       "      <td>11.62</td>\n",
       "      <td>63.250000</td>\n",
       "    </tr>\n",
       "  </tbody>\n",
       "</table>\n",
       "</div>"
      ],
      "text/plain": [
       "                    PG        MSFT      F         GE\n",
       "Date                                                \n",
       "2022-07-01  146.110001  259.579987  11.32  63.540001\n",
       "2022-07-05  144.699997  262.850006  11.20  62.029999\n",
       "2022-07-06  146.050003  266.209991  11.06  61.570000\n",
       "2022-07-07  146.000000  268.399994  11.65  63.000000\n",
       "2022-07-08  145.020004  267.660004  11.62  63.250000"
      ]
     },
     "execution_count": 27,
     "metadata": {},
     "output_type": "execute_result"
    }
   ],
   "source": [
    "mydata.tail()"
   ]
  },
  {
   "cell_type": "code",
   "execution_count": 30,
   "id": "039d9d26",
   "metadata": {},
   "outputs": [
    {
     "data": {
      "text/html": [
       "<div>\n",
       "<style scoped>\n",
       "    .dataframe tbody tr th:only-of-type {\n",
       "        vertical-align: middle;\n",
       "    }\n",
       "\n",
       "    .dataframe tbody tr th {\n",
       "        vertical-align: top;\n",
       "    }\n",
       "\n",
       "    .dataframe thead th {\n",
       "        text-align: right;\n",
       "    }\n",
       "</style>\n",
       "<table border=\"1\" class=\"dataframe\">\n",
       "  <thead>\n",
       "    <tr style=\"text-align: right;\">\n",
       "      <th></th>\n",
       "      <th>PG</th>\n",
       "      <th>MSFT</th>\n",
       "      <th>F</th>\n",
       "      <th>GE</th>\n",
       "    </tr>\n",
       "    <tr>\n",
       "      <th>Date</th>\n",
       "      <th></th>\n",
       "      <th></th>\n",
       "      <th></th>\n",
       "      <th></th>\n",
       "    </tr>\n",
       "  </thead>\n",
       "  <tbody>\n",
       "    <tr>\n",
       "      <th>1995-01-03</th>\n",
       "      <td>7.926648</td>\n",
       "      <td>2.364446</td>\n",
       "      <td>4.307283</td>\n",
       "      <td>32.808636</td>\n",
       "    </tr>\n",
       "    <tr>\n",
       "      <th>1995-01-04</th>\n",
       "      <td>7.863114</td>\n",
       "      <td>2.381634</td>\n",
       "      <td>4.423176</td>\n",
       "      <td>32.808636</td>\n",
       "    </tr>\n",
       "    <tr>\n",
       "      <th>1995-01-05</th>\n",
       "      <td>7.751913</td>\n",
       "      <td>2.342350</td>\n",
       "      <td>4.384546</td>\n",
       "      <td>32.889046</td>\n",
       "    </tr>\n",
       "    <tr>\n",
       "      <th>1995-01-06</th>\n",
       "      <td>7.767798</td>\n",
       "      <td>2.381634</td>\n",
       "      <td>4.384546</td>\n",
       "      <td>32.728218</td>\n",
       "    </tr>\n",
       "    <tr>\n",
       "      <th>1995-01-09</th>\n",
       "      <td>7.736029</td>\n",
       "      <td>2.366902</td>\n",
       "      <td>4.461809</td>\n",
       "      <td>32.406574</td>\n",
       "    </tr>\n",
       "  </tbody>\n",
       "</table>\n",
       "</div>"
      ],
      "text/plain": [
       "                  PG      MSFT         F         GE\n",
       "Date                                               \n",
       "1995-01-03  7.926648  2.364446  4.307283  32.808636\n",
       "1995-01-04  7.863114  2.381634  4.423176  32.808636\n",
       "1995-01-05  7.751913  2.342350  4.384546  32.889046\n",
       "1995-01-06  7.767798  2.381634  4.384546  32.728218\n",
       "1995-01-09  7.736029  2.366902  4.461809  32.406574"
      ]
     },
     "execution_count": 30,
     "metadata": {},
     "output_type": "execute_result"
    }
   ],
   "source": [
    "mydata.head()"
   ]
  },
  {
   "cell_type": "code",
   "execution_count": 31,
   "id": "1ff2ab47",
   "metadata": {},
   "outputs": [
    {
     "data": {
      "text/plain": [
       "PG       7.926648\n",
       "MSFT     2.364446\n",
       "F        4.307283\n",
       "GE      32.808636\n",
       "Name: 1995-01-03 00:00:00, dtype: float64"
      ]
     },
     "execution_count": 31,
     "metadata": {},
     "output_type": "execute_result"
    }
   ],
   "source": [
    "mydata.iloc[0]"
   ]
  },
  {
   "cell_type": "code",
   "execution_count": 34,
   "id": "f43c8bbe",
   "metadata": {},
   "outputs": [
    {
     "data": {
      "image/png": "[encoded data removed]",
      "text/plain": [
       "<Figure size 1080x432 with 1 Axes>"
      ]
     },
     "metadata": {
      "needs_background": "light"
     },
     "output_type": "display_data"
    }
   ],
   "source": [
    "(mydata/mydata.iloc[0]*100).plot(figsize=(15,6))\n",
    "plt.show()"
   ]
  },
  {
   "cell_type": "code",
   "execution_count": 35,
   "id": "79c28b51",
   "metadata": {},
   "outputs": [
    {
     "data": {
      "text/plain": [
       "PG       7.926648\n",
       "MSFT     2.364446\n",
       "F        4.307283\n",
       "GE      32.808636\n",
       "Name: 1995-01-03 00:00:00, dtype: float64"
      ]
     },
     "execution_count": 35,
     "metadata": {},
     "output_type": "execute_result"
    }
   ],
   "source": [
    "mydata.loc['1995-01-03']"
   ]
  },
  {
   "cell_type": "code",
   "execution_count": 36,
   "id": "0f8a904e",
   "metadata": {},
   "outputs": [
    {
     "data": {
      "text/plain": [
       "PG       7.926648\n",
       "MSFT     2.364446\n",
       "F        4.307283\n",
       "GE      32.808636\n",
       "Name: 1995-01-03 00:00:00, dtype: float64"
      ]
     },
     "execution_count": 36,
     "metadata": {},
     "output_type": "execute_result"
    }
   ],
   "source": [
    "mydata.iloc[0]"
   ]
  },
  {
   "cell_type": "code",
   "execution_count": 40,
   "id": "800431ec",
   "metadata": {},
   "outputs": [
    {
     "data": {
      "text/html": [
       "<div>\n",
       "<style scoped>\n",
       "    .dataframe tbody tr th:only-of-type {\n",
       "        vertical-align: middle;\n",
       "    }\n",
       "\n",
       "    .dataframe tbody tr th {\n",
       "        vertical-align: top;\n",
       "    }\n",
       "\n",
       "    .dataframe thead th {\n",
       "        text-align: right;\n",
       "    }\n",
       "</style>\n",
       "<table border=\"1\" class=\"dataframe\">\n",
       "  <thead>\n",
       "    <tr style=\"text-align: right;\">\n",
       "      <th></th>\n",
       "      <th>PG</th>\n",
       "      <th>MSFT</th>\n",
       "      <th>F</th>\n",
       "      <th>GE</th>\n",
       "    </tr>\n",
       "    <tr>\n",
       "      <th>Date</th>\n",
       "      <th></th>\n",
       "      <th></th>\n",
       "      <th></th>\n",
       "      <th></th>\n",
       "    </tr>\n",
       "  </thead>\n",
       "  <tbody>\n",
       "    <tr>\n",
       "      <th>1995-01-03</th>\n",
       "      <td>NaN</td>\n",
       "      <td>NaN</td>\n",
       "      <td>NaN</td>\n",
       "      <td>NaN</td>\n",
       "    </tr>\n",
       "    <tr>\n",
       "      <th>1995-01-04</th>\n",
       "      <td>-0.008015</td>\n",
       "      <td>0.007269</td>\n",
       "      <td>0.026906</td>\n",
       "      <td>0.000000</td>\n",
       "    </tr>\n",
       "    <tr>\n",
       "      <th>1995-01-05</th>\n",
       "      <td>-0.014142</td>\n",
       "      <td>-0.016494</td>\n",
       "      <td>-0.008734</td>\n",
       "      <td>0.002451</td>\n",
       "    </tr>\n",
       "    <tr>\n",
       "      <th>1995-01-06</th>\n",
       "      <td>0.002049</td>\n",
       "      <td>0.016771</td>\n",
       "      <td>0.000000</td>\n",
       "      <td>-0.004890</td>\n",
       "    </tr>\n",
       "    <tr>\n",
       "      <th>1995-01-09</th>\n",
       "      <td>-0.004090</td>\n",
       "      <td>-0.006186</td>\n",
       "      <td>0.017622</td>\n",
       "      <td>-0.009828</td>\n",
       "    </tr>\n",
       "  </tbody>\n",
       "</table>\n",
       "</div>"
      ],
      "text/plain": [
       "                  PG      MSFT         F        GE\n",
       "Date                                              \n",
       "1995-01-03       NaN       NaN       NaN       NaN\n",
       "1995-01-04 -0.008015  0.007269  0.026906  0.000000\n",
       "1995-01-05 -0.014142 -0.016494 -0.008734  0.002451\n",
       "1995-01-06  0.002049  0.016771  0.000000 -0.004890\n",
       "1995-01-09 -0.004090 -0.006186  0.017622 -0.009828"
      ]
     },
     "execution_count": 40,
     "metadata": {},
     "output_type": "execute_result"
    }
   ],
   "source": [
    "returns=(mydata/mydata.shift(1))-1\n",
    "returns.head()"
   ]
  },
  {
   "cell_type": "code",
   "execution_count": 41,
   "id": "bd124233",
   "metadata": {},
   "outputs": [],
   "source": [
    "#Calculate the return of a Portfolio of Securities"
   ]
  },
  {
   "cell_type": "code",
   "execution_count": 42,
   "id": "4625af5a",
   "metadata": {},
   "outputs": [],
   "source": [
    "weights=np.array([0.25, 0.25, 0.25, 0.25])"
   ]
  },
  {
   "cell_type": "code",
   "execution_count": 43,
   "id": "680278bc",
   "metadata": {},
   "outputs": [
    {
     "data": {
      "text/plain": [
       "array([        nan,  0.00653999, -0.00922975, ...,  0.00054922,\n",
       "        0.02111379, -0.00201904])"
      ]
     },
     "execution_count": 43,
     "metadata": {},
     "output_type": "execute_result"
    }
   ],
   "source": [
    "np.dot(returns, weights)"
   ]
  },
  {
   "cell_type": "code",
   "execution_count": 44,
   "id": "d82dec50",
   "metadata": {},
   "outputs": [],
   "source": [
    "annual_returns=returns.mean()*250"
   ]
  },
  {
   "cell_type": "code",
   "execution_count": 45,
   "id": "4e4ba7af",
   "metadata": {},
   "outputs": [
    {
     "data": {
      "text/plain": [
       "PG      0.130008\n",
       "MSFT    0.219860\n",
       "F       0.116620\n",
       "GE      0.075335\n",
       "dtype: float64"
      ]
     },
     "execution_count": 45,
     "metadata": {},
     "output_type": "execute_result"
    }
   ],
   "source": [
    "annual_returns"
   ]
  },
  {
   "cell_type": "code",
   "execution_count": 46,
   "id": "ab72e3c2",
   "metadata": {},
   "outputs": [
    {
     "data": {
      "text/plain": [
       "0.13545576998747869"
      ]
     },
     "execution_count": 46,
     "metadata": {},
     "output_type": "execute_result"
    }
   ],
   "source": [
    "np.dot(annual_returns, weights)"
   ]
  },
  {
   "cell_type": "code",
   "execution_count": 56,
   "id": "1c4bfd20",
   "metadata": {},
   "outputs": [],
   "source": [
    "portfolio1=str(round(np.dot(annual_returns, weights),4)*100)+'%'"
   ]
  },
  {
   "cell_type": "code",
   "execution_count": 57,
   "id": "fc39f5af",
   "metadata": {},
   "outputs": [
    {
     "name": "stdout",
     "output_type": "stream",
     "text": [
      "13.55%\n"
     ]
    }
   ],
   "source": [
    "print(portfolio1)"
   ]
  },
  {
   "cell_type": "code",
   "execution_count": 58,
   "id": "b823df3e",
   "metadata": {},
   "outputs": [],
   "source": [
    "weights_2=np.array([0.4,0.4,0.15,0.05])"
   ]
  },
  {
   "cell_type": "code",
   "execution_count": 59,
   "id": "8c332c24",
   "metadata": {},
   "outputs": [
    {
     "name": "stdout",
     "output_type": "stream",
     "text": [
      "13.55%\n",
      "16.12%\n"
     ]
    }
   ],
   "source": [
    "portfolio2=str(round(np.dot(annual_returns, weights_2),4)*100)+'%'\n",
    "print(portfolio1)\n",
    "print(portfolio2)"
   ]
  },
  {
   "cell_type": "code",
   "execution_count": null,
   "id": "26ef76e1",
   "metadata": {},
   "outputs": [],
   "source": []
  }
 ],
 "metadata": {
  "kernelspec": {
   "display_name": "Python 3 (ipykernel)",
   "language": "python",
   "name": "python3"
  },
  "language_info": {
   "codemirror_mode": {
    "name": "ipython",
    "version": 3
   },
   "file_extension": ".py",
   "mimetype": "text/x-python",
   "name": "python",
   "nbconvert_exporter": "python",
   "pygments_lexer": "ipython3",
   "version": "3.9.12"
  }
 },
 "nbformat": 4,
 "nbformat_minor": 5
}
